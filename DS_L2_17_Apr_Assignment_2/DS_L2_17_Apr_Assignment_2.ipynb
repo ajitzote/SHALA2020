{
 "cells": [
  {
   "cell_type": "markdown",
   "metadata": {},
   "source": [
    "# Part 1 - Loading data\n"
   ]
  },
  {
   "cell_type": "markdown",
   "metadata": {},
   "source": [
    "# Import the following libraries"
   ]
  },
  {
   "cell_type": "code",
   "execution_count": 59,
   "metadata": {},
   "outputs": [],
   "source": [
    "import numpy as np\n",
    "import pandas as pd\n",
    "import matplotlib.pyplot as plt\n",
    "import seaborn as sns"
   ]
  },
  {
   "cell_type": "markdown",
   "metadata": {},
   "source": [
    "# Using the files train.csv and moviesData.csv, peform the following:\n"
   ]
  },
  {
   "cell_type": "markdown",
   "metadata": {},
   "source": [
    "- Load these file as pandas dataframes and store it in variables named df and movies respectively.\n",
    "- Print the first ten rows of df.\n",
    "\n"
   ]
  },
  {
   "cell_type": "code",
   "execution_count": 60,
   "metadata": {},
   "outputs": [],
   "source": [
    "df =pd.read_csv(\"train.txt\")\n",
    "movies=pd.read_csv(\"moviesData.csv.txt\")"
   ]
  },
  {
   "cell_type": "code",
   "execution_count": 61,
   "metadata": {
    "scrolled": true
   },
   "outputs": [
    {
     "data": {
      "text/html": [
       "<div>\n",
       "<style scoped>\n",
       "    .dataframe tbody tr th:only-of-type {\n",
       "        vertical-align: middle;\n",
       "    }\n",
       "\n",
       "    .dataframe tbody tr th {\n",
       "        vertical-align: top;\n",
       "    }\n",
       "\n",
       "    .dataframe thead th {\n",
       "        text-align: right;\n",
       "    }\n",
       "</style>\n",
       "<table border=\"1\" class=\"dataframe\">\n",
       "  <thead>\n",
       "    <tr style=\"text-align: right;\">\n",
       "      <th></th>\n",
       "      <th>Age</th>\n",
       "      <th>Attrition</th>\n",
       "      <th>BusinessTravel</th>\n",
       "      <th>DailyRate</th>\n",
       "      <th>Department</th>\n",
       "      <th>DistanceFromHome</th>\n",
       "      <th>Education</th>\n",
       "      <th>EducationField</th>\n",
       "      <th>EmployeeCount</th>\n",
       "      <th>EmployeeNumber</th>\n",
       "      <th>...</th>\n",
       "      <th>RelationshipSatisfaction</th>\n",
       "      <th>StockOptionLevel</th>\n",
       "      <th>TotalWorkingYears</th>\n",
       "      <th>TrainingTimesLastYear</th>\n",
       "      <th>WorkLifeBalance</th>\n",
       "      <th>YearsAtCompany</th>\n",
       "      <th>YearsInCurrentRole</th>\n",
       "      <th>YearsSinceLastPromotion</th>\n",
       "      <th>YearsWithCurrManager</th>\n",
       "      <th>ID</th>\n",
       "    </tr>\n",
       "  </thead>\n",
       "  <tbody>\n",
       "    <tr>\n",
       "      <th>0</th>\n",
       "      <td>41</td>\n",
       "      <td>1</td>\n",
       "      <td>Travel_Rarely</td>\n",
       "      <td>1102</td>\n",
       "      <td>Sales</td>\n",
       "      <td>1</td>\n",
       "      <td>2</td>\n",
       "      <td>Life Sciences</td>\n",
       "      <td>1</td>\n",
       "      <td>1</td>\n",
       "      <td>...</td>\n",
       "      <td>1</td>\n",
       "      <td>0</td>\n",
       "      <td>8</td>\n",
       "      <td>0</td>\n",
       "      <td>1</td>\n",
       "      <td>6</td>\n",
       "      <td>4</td>\n",
       "      <td>0</td>\n",
       "      <td>5</td>\n",
       "      <td>0</td>\n",
       "    </tr>\n",
       "    <tr>\n",
       "      <th>1</th>\n",
       "      <td>49</td>\n",
       "      <td>0</td>\n",
       "      <td>Travel_Frequently</td>\n",
       "      <td>279</td>\n",
       "      <td>Research &amp; Development</td>\n",
       "      <td>8</td>\n",
       "      <td>1</td>\n",
       "      <td>Life Sciences</td>\n",
       "      <td>1</td>\n",
       "      <td>2</td>\n",
       "      <td>...</td>\n",
       "      <td>4</td>\n",
       "      <td>1</td>\n",
       "      <td>10</td>\n",
       "      <td>3</td>\n",
       "      <td>3</td>\n",
       "      <td>10</td>\n",
       "      <td>7</td>\n",
       "      <td>1</td>\n",
       "      <td>7</td>\n",
       "      <td>1</td>\n",
       "    </tr>\n",
       "    <tr>\n",
       "      <th>2</th>\n",
       "      <td>37</td>\n",
       "      <td>1</td>\n",
       "      <td>Travel_Rarely</td>\n",
       "      <td>1373</td>\n",
       "      <td>Research &amp; Development</td>\n",
       "      <td>2</td>\n",
       "      <td>2</td>\n",
       "      <td>Other</td>\n",
       "      <td>1</td>\n",
       "      <td>4</td>\n",
       "      <td>...</td>\n",
       "      <td>2</td>\n",
       "      <td>0</td>\n",
       "      <td>7</td>\n",
       "      <td>3</td>\n",
       "      <td>3</td>\n",
       "      <td>0</td>\n",
       "      <td>0</td>\n",
       "      <td>0</td>\n",
       "      <td>0</td>\n",
       "      <td>2</td>\n",
       "    </tr>\n",
       "    <tr>\n",
       "      <th>3</th>\n",
       "      <td>33</td>\n",
       "      <td>0</td>\n",
       "      <td>Travel_Frequently</td>\n",
       "      <td>1392</td>\n",
       "      <td>Research &amp; Development</td>\n",
       "      <td>3</td>\n",
       "      <td>4</td>\n",
       "      <td>Life Sciences</td>\n",
       "      <td>1</td>\n",
       "      <td>5</td>\n",
       "      <td>...</td>\n",
       "      <td>3</td>\n",
       "      <td>0</td>\n",
       "      <td>8</td>\n",
       "      <td>3</td>\n",
       "      <td>3</td>\n",
       "      <td>8</td>\n",
       "      <td>7</td>\n",
       "      <td>3</td>\n",
       "      <td>0</td>\n",
       "      <td>3</td>\n",
       "    </tr>\n",
       "    <tr>\n",
       "      <th>4</th>\n",
       "      <td>27</td>\n",
       "      <td>0</td>\n",
       "      <td>Travel_Rarely</td>\n",
       "      <td>591</td>\n",
       "      <td>Research &amp; Development</td>\n",
       "      <td>2</td>\n",
       "      <td>1</td>\n",
       "      <td>Medical</td>\n",
       "      <td>1</td>\n",
       "      <td>7</td>\n",
       "      <td>...</td>\n",
       "      <td>4</td>\n",
       "      <td>1</td>\n",
       "      <td>6</td>\n",
       "      <td>3</td>\n",
       "      <td>3</td>\n",
       "      <td>2</td>\n",
       "      <td>2</td>\n",
       "      <td>2</td>\n",
       "      <td>2</td>\n",
       "      <td>4</td>\n",
       "    </tr>\n",
       "    <tr>\n",
       "      <th>5</th>\n",
       "      <td>32</td>\n",
       "      <td>0</td>\n",
       "      <td>Travel_Frequently</td>\n",
       "      <td>1005</td>\n",
       "      <td>Research &amp; Development</td>\n",
       "      <td>2</td>\n",
       "      <td>2</td>\n",
       "      <td>Life Sciences</td>\n",
       "      <td>1</td>\n",
       "      <td>8</td>\n",
       "      <td>...</td>\n",
       "      <td>3</td>\n",
       "      <td>0</td>\n",
       "      <td>8</td>\n",
       "      <td>2</td>\n",
       "      <td>2</td>\n",
       "      <td>7</td>\n",
       "      <td>7</td>\n",
       "      <td>3</td>\n",
       "      <td>6</td>\n",
       "      <td>5</td>\n",
       "    </tr>\n",
       "    <tr>\n",
       "      <th>6</th>\n",
       "      <td>59</td>\n",
       "      <td>0</td>\n",
       "      <td>Travel_Rarely</td>\n",
       "      <td>1324</td>\n",
       "      <td>Research &amp; Development</td>\n",
       "      <td>3</td>\n",
       "      <td>3</td>\n",
       "      <td>Medical</td>\n",
       "      <td>1</td>\n",
       "      <td>10</td>\n",
       "      <td>...</td>\n",
       "      <td>1</td>\n",
       "      <td>3</td>\n",
       "      <td>12</td>\n",
       "      <td>3</td>\n",
       "      <td>2</td>\n",
       "      <td>1</td>\n",
       "      <td>0</td>\n",
       "      <td>0</td>\n",
       "      <td>0</td>\n",
       "      <td>6</td>\n",
       "    </tr>\n",
       "    <tr>\n",
       "      <th>7</th>\n",
       "      <td>30</td>\n",
       "      <td>0</td>\n",
       "      <td>Travel_Rarely</td>\n",
       "      <td>1358</td>\n",
       "      <td>Research &amp; Development</td>\n",
       "      <td>24</td>\n",
       "      <td>1</td>\n",
       "      <td>Life Sciences</td>\n",
       "      <td>1</td>\n",
       "      <td>11</td>\n",
       "      <td>...</td>\n",
       "      <td>2</td>\n",
       "      <td>1</td>\n",
       "      <td>1</td>\n",
       "      <td>2</td>\n",
       "      <td>3</td>\n",
       "      <td>1</td>\n",
       "      <td>0</td>\n",
       "      <td>0</td>\n",
       "      <td>0</td>\n",
       "      <td>7</td>\n",
       "    </tr>\n",
       "    <tr>\n",
       "      <th>8</th>\n",
       "      <td>38</td>\n",
       "      <td>0</td>\n",
       "      <td>Travel_Frequently</td>\n",
       "      <td>216</td>\n",
       "      <td>Research &amp; Development</td>\n",
       "      <td>23</td>\n",
       "      <td>3</td>\n",
       "      <td>Life Sciences</td>\n",
       "      <td>1</td>\n",
       "      <td>12</td>\n",
       "      <td>...</td>\n",
       "      <td>2</td>\n",
       "      <td>0</td>\n",
       "      <td>10</td>\n",
       "      <td>2</td>\n",
       "      <td>3</td>\n",
       "      <td>9</td>\n",
       "      <td>7</td>\n",
       "      <td>1</td>\n",
       "      <td>8</td>\n",
       "      <td>8</td>\n",
       "    </tr>\n",
       "    <tr>\n",
       "      <th>9</th>\n",
       "      <td>36</td>\n",
       "      <td>0</td>\n",
       "      <td>Travel_Rarely</td>\n",
       "      <td>1299</td>\n",
       "      <td>Research &amp; Development</td>\n",
       "      <td>27</td>\n",
       "      <td>3</td>\n",
       "      <td>Medical</td>\n",
       "      <td>1</td>\n",
       "      <td>13</td>\n",
       "      <td>...</td>\n",
       "      <td>2</td>\n",
       "      <td>2</td>\n",
       "      <td>17</td>\n",
       "      <td>3</td>\n",
       "      <td>2</td>\n",
       "      <td>7</td>\n",
       "      <td>7</td>\n",
       "      <td>7</td>\n",
       "      <td>7</td>\n",
       "      <td>9</td>\n",
       "    </tr>\n",
       "  </tbody>\n",
       "</table>\n",
       "<p>10 rows × 34 columns</p>\n",
       "</div>"
      ],
      "text/plain": [
       "   Age  Attrition     BusinessTravel  DailyRate              Department  \\\n",
       "0   41          1      Travel_Rarely       1102                   Sales   \n",
       "1   49          0  Travel_Frequently        279  Research & Development   \n",
       "2   37          1      Travel_Rarely       1373  Research & Development   \n",
       "3   33          0  Travel_Frequently       1392  Research & Development   \n",
       "4   27          0      Travel_Rarely        591  Research & Development   \n",
       "5   32          0  Travel_Frequently       1005  Research & Development   \n",
       "6   59          0      Travel_Rarely       1324  Research & Development   \n",
       "7   30          0      Travel_Rarely       1358  Research & Development   \n",
       "8   38          0  Travel_Frequently        216  Research & Development   \n",
       "9   36          0      Travel_Rarely       1299  Research & Development   \n",
       "\n",
       "   DistanceFromHome  Education EducationField  EmployeeCount  EmployeeNumber  \\\n",
       "0                 1          2  Life Sciences              1               1   \n",
       "1                 8          1  Life Sciences              1               2   \n",
       "2                 2          2          Other              1               4   \n",
       "3                 3          4  Life Sciences              1               5   \n",
       "4                 2          1        Medical              1               7   \n",
       "5                 2          2  Life Sciences              1               8   \n",
       "6                 3          3        Medical              1              10   \n",
       "7                24          1  Life Sciences              1              11   \n",
       "8                23          3  Life Sciences              1              12   \n",
       "9                27          3        Medical              1              13   \n",
       "\n",
       "   ...  RelationshipSatisfaction StockOptionLevel  TotalWorkingYears  \\\n",
       "0  ...                         1                0                  8   \n",
       "1  ...                         4                1                 10   \n",
       "2  ...                         2                0                  7   \n",
       "3  ...                         3                0                  8   \n",
       "4  ...                         4                1                  6   \n",
       "5  ...                         3                0                  8   \n",
       "6  ...                         1                3                 12   \n",
       "7  ...                         2                1                  1   \n",
       "8  ...                         2                0                 10   \n",
       "9  ...                         2                2                 17   \n",
       "\n",
       "   TrainingTimesLastYear  WorkLifeBalance YearsAtCompany  YearsInCurrentRole  \\\n",
       "0                      0                1              6                   4   \n",
       "1                      3                3             10                   7   \n",
       "2                      3                3              0                   0   \n",
       "3                      3                3              8                   7   \n",
       "4                      3                3              2                   2   \n",
       "5                      2                2              7                   7   \n",
       "6                      3                2              1                   0   \n",
       "7                      2                3              1                   0   \n",
       "8                      2                3              9                   7   \n",
       "9                      3                2              7                   7   \n",
       "\n",
       "  YearsSinceLastPromotion  YearsWithCurrManager  ID  \n",
       "0                       0                     5   0  \n",
       "1                       1                     7   1  \n",
       "2                       0                     0   2  \n",
       "3                       3                     0   3  \n",
       "4                       2                     2   4  \n",
       "5                       3                     6   5  \n",
       "6                       0                     0   6  \n",
       "7                       0                     0   7  \n",
       "8                       1                     8   8  \n",
       "9                       7                     7   9  \n",
       "\n",
       "[10 rows x 34 columns]"
      ]
     },
     "execution_count": 61,
     "metadata": {},
     "output_type": "execute_result"
    }
   ],
   "source": [
    "df.head(10)"
   ]
  },
  {
   "cell_type": "markdown",
   "metadata": {},
   "source": [
    "# Using the dataframe df, perform the following:\n"
   ]
  },
  {
   "cell_type": "markdown",
   "metadata": {},
   "source": [
    "- Print the first five rows of the column MonthlyRate.\n",
    "- Find out the details of the column MonthlyRate like mean, maximum value, minimum value, etc"
   ]
  },
  {
   "cell_type": "code",
   "execution_count": 62,
   "metadata": {},
   "outputs": [
    {
     "data": {
      "text/plain": [
       "0    19479\n",
       "1    24907\n",
       "2     2396\n",
       "3    23159\n",
       "4    16632\n",
       "Name: MonthlyRate, dtype: int64"
      ]
     },
     "execution_count": 62,
     "metadata": {},
     "output_type": "execute_result"
    }
   ],
   "source": [
    "# Print the first five rows of MonthlyRate\n",
    "\n",
    "df['MonthlyRate'].head(5)"
   ]
  },
  {
   "cell_type": "code",
   "execution_count": 63,
   "metadata": {},
   "outputs": [
    {
     "name": "stdout",
     "output_type": "stream",
     "text": [
      "14243.53112840467\n",
      "26999\n",
      "2094\n",
      "7048.768075948737\n"
     ]
    }
   ],
   "source": [
    "# Find the details of MonthlyRate \n",
    "\n",
    "print(df['MonthlyRate'].mean())\n",
    "print(df['MonthlyRate'].max())\n",
    "print(df['MonthlyRate'].min())\n",
    "print(df['MonthlyRate'].std())\n"
   ]
  },
  {
   "cell_type": "markdown",
   "metadata": {},
   "source": [
    "# Part 2 - Cleaning and manipulating data\n"
   ]
  },
  {
   "cell_type": "markdown",
   "metadata": {},
   "source": [
    "# Using the dataframe df, peform the following:"
   ]
  },
  {
   "cell_type": "markdown",
   "metadata": {},
   "source": [
    "- Check whether there are any missing values in df."
   ]
  },
  {
   "cell_type": "markdown",
   "metadata": {},
   "source": [
    "- If yes, drop those values and print the size of df after dropping these.\n"
   ]
  },
  {
   "cell_type": "code",
   "execution_count": 64,
   "metadata": {
    "scrolled": true
   },
   "outputs": [
    {
     "data": {
      "text/plain": [
       "Age                         0\n",
       "Attrition                   0\n",
       "BusinessTravel              0\n",
       "DailyRate                   0\n",
       "Department                  0\n",
       "DistanceFromHome            0\n",
       "Education                   0\n",
       "EducationField              0\n",
       "EmployeeCount               0\n",
       "EmployeeNumber              0\n",
       "EnvironmentSatisfaction     0\n",
       "Gender                      0\n",
       "HourlyRate                  0\n",
       "JobInvolvement              0\n",
       "JobLevel                    0\n",
       "JobRole                     0\n",
       "JobSatisfaction             0\n",
       "MaritalStatus               0\n",
       "MonthlyIncome               0\n",
       "MonthlyRate                 0\n",
       "NumCompaniesWorked          0\n",
       "OverTime                    0\n",
       "PercentSalaryHike           0\n",
       "PerformanceRating           0\n",
       "RelationshipSatisfaction    0\n",
       "StockOptionLevel            0\n",
       "TotalWorkingYears           0\n",
       "TrainingTimesLastYear       0\n",
       "WorkLifeBalance             0\n",
       "YearsAtCompany              0\n",
       "YearsInCurrentRole          0\n",
       "YearsSinceLastPromotion     0\n",
       "YearsWithCurrManager        0\n",
       "ID                          0\n",
       "dtype: int64"
      ]
     },
     "execution_count": 64,
     "metadata": {},
     "output_type": "execute_result"
    }
   ],
   "source": [
    "df.isnull().sum()"
   ]
  },
  {
   "cell_type": "markdown",
   "metadata": {},
   "source": [
    "so there are no missing values in df"
   ]
  },
  {
   "cell_type": "markdown",
   "metadata": {},
   "source": [
    "# Using the dataframe df, peform the following:\n",
    " "
   ]
  },
  {
   "cell_type": "markdown",
   "metadata": {},
   "source": [
    "- Add another column named MonthRateNew in df by subtracting the mean from MonthlyRate and dividing it by standard deviation.\n"
   ]
  },
  {
   "cell_type": "code",
   "execution_count": 65,
   "metadata": {},
   "outputs": [],
   "source": [
    "# Add a column named MonthRateNew\n",
    "\n",
    "MonthlyRate=df['MonthlyRate']\n",
    "MonthRateNew = pd.DataFrame(MonthlyRate - MonthlyRate.mean())/MonthlyRate.std()\n",
    "df['MonthRateNew']=MonthRateNew"
   ]
  },
  {
   "cell_type": "code",
   "execution_count": 66,
   "metadata": {},
   "outputs": [
    {
     "data": {
      "text/plain": [
       "0       0.742749\n",
       "1       1.512813\n",
       "2      -1.680795\n",
       "3       1.264827\n",
       "4       0.338849\n",
       "          ...   \n",
       "1023   -0.531941\n",
       "1024    1.767609\n",
       "1025    0.137254\n",
       "1026    1.290930\n",
       "1027   -1.494663\n",
       "Name: MonthRateNew, Length: 1028, dtype: float64"
      ]
     },
     "execution_count": 66,
     "metadata": {},
     "output_type": "execute_result"
    }
   ],
   "source": [
    "df['MonthRateNew']"
   ]
  },
  {
   "cell_type": "markdown",
   "metadata": {},
   "source": [
    " # Using the dataframe movies, perform the following\n"
   ]
  },
  {
   "cell_type": "markdown",
   "metadata": {},
   "source": [
    "- Check whether there are any missing values in movies.\n",
    "- Find out the number of observations/rows having any of their features/columns missing.\n",
    "- Drop the missing values and print the size of movies after dropping these.\n",
    "- Instead of dropping the missing values, replace the missing values by their mean (or some suitable value)."
   ]
  },
  {
   "cell_type": "code",
   "execution_count": 67,
   "metadata": {},
   "outputs": [
    {
     "data": {
      "text/plain": [
       "(600, 31)"
      ]
     },
     "execution_count": 67,
     "metadata": {},
     "output_type": "execute_result"
    }
   ],
   "source": [
    "movies.shape"
   ]
  },
  {
   "cell_type": "code",
   "execution_count": 68,
   "metadata": {},
   "outputs": [
    {
     "data": {
      "text/plain": [
       "Unnamed: 0          False\n",
       "title               False\n",
       "title_type          False\n",
       "genre               False\n",
       "runtime              True\n",
       "mpaa_rating         False\n",
       "studio               True\n",
       "thtr_rel_year       False\n",
       "thtr_rel_month      False\n",
       "thtr_rel_day        False\n",
       "dvd_rel_year         True\n",
       "dvd_rel_month        True\n",
       "dvd_rel_day          True\n",
       "imdb_rating         False\n",
       "imdb_num_votes      False\n",
       "critics_rating      False\n",
       "critics_score       False\n",
       "audience_rating     False\n",
       "audience_score      False\n",
       "best_pic_nom        False\n",
       "best_pic_win        False\n",
       "best_actor_win      False\n",
       "best_actress_win    False\n",
       "best_dir_win        False\n",
       "top200_box          False\n",
       "director             True\n",
       "actor1               True\n",
       "actor2               True\n",
       "actor3               True\n",
       "actor4               True\n",
       "actor5               True\n",
       "dtype: bool"
      ]
     },
     "execution_count": 68,
     "metadata": {},
     "output_type": "execute_result"
    }
   ],
   "source": [
    "movies.isnull().any()"
   ]
  },
  {
   "cell_type": "code",
   "execution_count": 69,
   "metadata": {},
   "outputs": [
    {
     "data": {
      "text/html": [
       "<div>\n",
       "<style scoped>\n",
       "    .dataframe tbody tr th:only-of-type {\n",
       "        vertical-align: middle;\n",
       "    }\n",
       "\n",
       "    .dataframe tbody tr th {\n",
       "        vertical-align: top;\n",
       "    }\n",
       "\n",
       "    .dataframe thead th {\n",
       "        text-align: right;\n",
       "    }\n",
       "</style>\n",
       "<table border=\"1\" class=\"dataframe\">\n",
       "  <thead>\n",
       "    <tr style=\"text-align: right;\">\n",
       "      <th></th>\n",
       "      <th>Unnamed: 0</th>\n",
       "      <th>title</th>\n",
       "      <th>title_type</th>\n",
       "      <th>genre</th>\n",
       "      <th>runtime</th>\n",
       "      <th>mpaa_rating</th>\n",
       "      <th>studio</th>\n",
       "      <th>thtr_rel_year</th>\n",
       "      <th>thtr_rel_month</th>\n",
       "      <th>thtr_rel_day</th>\n",
       "      <th>...</th>\n",
       "      <th>best_actor_win</th>\n",
       "      <th>best_actress_win</th>\n",
       "      <th>best_dir_win</th>\n",
       "      <th>top200_box</th>\n",
       "      <th>director</th>\n",
       "      <th>actor1</th>\n",
       "      <th>actor2</th>\n",
       "      <th>actor3</th>\n",
       "      <th>actor4</th>\n",
       "      <th>actor5</th>\n",
       "    </tr>\n",
       "  </thead>\n",
       "  <tbody>\n",
       "    <tr>\n",
       "      <th>5</th>\n",
       "      <td>6</td>\n",
       "      <td>Old Partner</td>\n",
       "      <td>Documentary</td>\n",
       "      <td>Documentary</td>\n",
       "      <td>78.0</td>\n",
       "      <td>Unrated</td>\n",
       "      <td>Shcalo Media Group</td>\n",
       "      <td>2009</td>\n",
       "      <td>1</td>\n",
       "      <td>15</td>\n",
       "      <td>...</td>\n",
       "      <td>no</td>\n",
       "      <td>no</td>\n",
       "      <td>no</td>\n",
       "      <td>no</td>\n",
       "      <td>Chung-ryoul Lee</td>\n",
       "      <td>Choi Won-kyun</td>\n",
       "      <td>Lee Sam-soon</td>\n",
       "      <td>Moo</td>\n",
       "      <td>NaN</td>\n",
       "      <td>NaN</td>\n",
       "    </tr>\n",
       "    <tr>\n",
       "      <th>24</th>\n",
       "      <td>25</td>\n",
       "      <td>The Yes Men Fix the World</td>\n",
       "      <td>Documentary</td>\n",
       "      <td>Documentary</td>\n",
       "      <td>87.0</td>\n",
       "      <td>Unrated</td>\n",
       "      <td>Cinetic Media</td>\n",
       "      <td>2009</td>\n",
       "      <td>1</td>\n",
       "      <td>18</td>\n",
       "      <td>...</td>\n",
       "      <td>no</td>\n",
       "      <td>no</td>\n",
       "      <td>no</td>\n",
       "      <td>no</td>\n",
       "      <td>Andy Bichlbaum</td>\n",
       "      <td>Andy Bichlbaum</td>\n",
       "      <td>Reggie Waits</td>\n",
       "      <td>Mike Bonanno</td>\n",
       "      <td>NaN</td>\n",
       "      <td>NaN</td>\n",
       "    </tr>\n",
       "    <tr>\n",
       "      <th>87</th>\n",
       "      <td>88</td>\n",
       "      <td>Dirty Sanchez: The Movie</td>\n",
       "      <td>Documentary</td>\n",
       "      <td>Comedy</td>\n",
       "      <td>94.0</td>\n",
       "      <td>R</td>\n",
       "      <td>NaN</td>\n",
       "      <td>2007</td>\n",
       "      <td>9</td>\n",
       "      <td>11</td>\n",
       "      <td>...</td>\n",
       "      <td>no</td>\n",
       "      <td>no</td>\n",
       "      <td>no</td>\n",
       "      <td>no</td>\n",
       "      <td>Jim Hickey</td>\n",
       "      <td>Lee Dainton</td>\n",
       "      <td>Dan Joyce</td>\n",
       "      <td>Michael Pancho Locke</td>\n",
       "      <td>Matt Pritchard</td>\n",
       "      <td>Howard Marks</td>\n",
       "    </tr>\n",
       "    <tr>\n",
       "      <th>93</th>\n",
       "      <td>94</td>\n",
       "      <td>Charlie: The Life and Art of Charles Chaplin</td>\n",
       "      <td>Documentary</td>\n",
       "      <td>Documentary</td>\n",
       "      <td>132.0</td>\n",
       "      <td>Unrated</td>\n",
       "      <td>Warner Bros.</td>\n",
       "      <td>2004</td>\n",
       "      <td>2</td>\n",
       "      <td>13</td>\n",
       "      <td>...</td>\n",
       "      <td>no</td>\n",
       "      <td>no</td>\n",
       "      <td>no</td>\n",
       "      <td>no</td>\n",
       "      <td>Richard Schickel</td>\n",
       "      <td>Woody Allen</td>\n",
       "      <td>Johnny Depp</td>\n",
       "      <td>Sydney Pollack</td>\n",
       "      <td>Milos Forman</td>\n",
       "      <td>Marcel Marceau</td>\n",
       "    </tr>\n",
       "    <tr>\n",
       "      <th>122</th>\n",
       "      <td>123</td>\n",
       "      <td>Africa: The Serengeti</td>\n",
       "      <td>Documentary</td>\n",
       "      <td>Documentary</td>\n",
       "      <td>39.0</td>\n",
       "      <td>Unrated</td>\n",
       "      <td>Houston Museum of Natural Scie</td>\n",
       "      <td>1994</td>\n",
       "      <td>4</td>\n",
       "      <td>8</td>\n",
       "      <td>...</td>\n",
       "      <td>no</td>\n",
       "      <td>no</td>\n",
       "      <td>no</td>\n",
       "      <td>no</td>\n",
       "      <td>George Casey</td>\n",
       "      <td>James Earl Jones</td>\n",
       "      <td>NaN</td>\n",
       "      <td>NaN</td>\n",
       "      <td>NaN</td>\n",
       "      <td>NaN</td>\n",
       "    </tr>\n",
       "    <tr>\n",
       "      <th>161</th>\n",
       "      <td>162</td>\n",
       "      <td>Lorenzo's Oil</td>\n",
       "      <td>Feature Film</td>\n",
       "      <td>Drama</td>\n",
       "      <td>129.0</td>\n",
       "      <td>PG-13</td>\n",
       "      <td>MCA Universal Home Video</td>\n",
       "      <td>1992</td>\n",
       "      <td>12</td>\n",
       "      <td>30</td>\n",
       "      <td>...</td>\n",
       "      <td>no</td>\n",
       "      <td>yes</td>\n",
       "      <td>no</td>\n",
       "      <td>no</td>\n",
       "      <td>NaN</td>\n",
       "      <td>Nick Nolte</td>\n",
       "      <td>Susan Sarandon</td>\n",
       "      <td>Peter Ustinov</td>\n",
       "      <td>Kathleen Wilhoite</td>\n",
       "      <td>Gerry Bamman</td>\n",
       "    </tr>\n",
       "    <tr>\n",
       "      <th>163</th>\n",
       "      <td>164</td>\n",
       "      <td>Kicking It</td>\n",
       "      <td>Documentary</td>\n",
       "      <td>Documentary</td>\n",
       "      <td>98.0</td>\n",
       "      <td>Unrated</td>\n",
       "      <td>Liberation Entertainment</td>\n",
       "      <td>2008</td>\n",
       "      <td>6</td>\n",
       "      <td>13</td>\n",
       "      <td>...</td>\n",
       "      <td>no</td>\n",
       "      <td>no</td>\n",
       "      <td>no</td>\n",
       "      <td>no</td>\n",
       "      <td>Jeff Werner</td>\n",
       "      <td>Colin Farrell</td>\n",
       "      <td>Brandon Francis</td>\n",
       "      <td>NaN</td>\n",
       "      <td>NaN</td>\n",
       "      <td>NaN</td>\n",
       "    </tr>\n",
       "    <tr>\n",
       "      <th>172</th>\n",
       "      <td>173</td>\n",
       "      <td>Streets of Gold</td>\n",
       "      <td>Feature Film</td>\n",
       "      <td>Drama</td>\n",
       "      <td>95.0</td>\n",
       "      <td>R</td>\n",
       "      <td>Live Home Video</td>\n",
       "      <td>1986</td>\n",
       "      <td>11</td>\n",
       "      <td>14</td>\n",
       "      <td>...</td>\n",
       "      <td>no</td>\n",
       "      <td>no</td>\n",
       "      <td>no</td>\n",
       "      <td>no</td>\n",
       "      <td>Joe Roth</td>\n",
       "      <td>Klaus Maria Brandauer</td>\n",
       "      <td>Adrian Pasdar</td>\n",
       "      <td>Richard Pasdar</td>\n",
       "      <td>Wesley Snipes</td>\n",
       "      <td>Angela Molina</td>\n",
       "    </tr>\n",
       "    <tr>\n",
       "      <th>186</th>\n",
       "      <td>187</td>\n",
       "      <td>Gaza Strip</td>\n",
       "      <td>Documentary</td>\n",
       "      <td>Documentary</td>\n",
       "      <td>74.0</td>\n",
       "      <td>Unrated</td>\n",
       "      <td>Arab Film Distribution</td>\n",
       "      <td>2002</td>\n",
       "      <td>1</td>\n",
       "      <td>1</td>\n",
       "      <td>...</td>\n",
       "      <td>no</td>\n",
       "      <td>no</td>\n",
       "      <td>no</td>\n",
       "      <td>no</td>\n",
       "      <td>James Longley</td>\n",
       "      <td>NaN</td>\n",
       "      <td>NaN</td>\n",
       "      <td>NaN</td>\n",
       "      <td>NaN</td>\n",
       "      <td>NaN</td>\n",
       "    </tr>\n",
       "    <tr>\n",
       "      <th>195</th>\n",
       "      <td>196</td>\n",
       "      <td>Caveman</td>\n",
       "      <td>Feature Film</td>\n",
       "      <td>Action &amp; Adventure</td>\n",
       "      <td>91.0</td>\n",
       "      <td>PG</td>\n",
       "      <td>NaN</td>\n",
       "      <td>1981</td>\n",
       "      <td>4</td>\n",
       "      <td>17</td>\n",
       "      <td>...</td>\n",
       "      <td>no</td>\n",
       "      <td>no</td>\n",
       "      <td>no</td>\n",
       "      <td>no</td>\n",
       "      <td>Carl Gottlieb</td>\n",
       "      <td>Ringo Starr</td>\n",
       "      <td>Dennis Quaid</td>\n",
       "      <td>Shelley Long</td>\n",
       "      <td>Jack Gilford</td>\n",
       "      <td>John Matuszak</td>\n",
       "    </tr>\n",
       "    <tr>\n",
       "      <th>220</th>\n",
       "      <td>221</td>\n",
       "      <td>Closet Land</td>\n",
       "      <td>Feature Film</td>\n",
       "      <td>Mystery &amp; Suspense</td>\n",
       "      <td>89.0</td>\n",
       "      <td>R</td>\n",
       "      <td>Media Home Entertainment</td>\n",
       "      <td>1991</td>\n",
       "      <td>3</td>\n",
       "      <td>6</td>\n",
       "      <td>...</td>\n",
       "      <td>no</td>\n",
       "      <td>no</td>\n",
       "      <td>no</td>\n",
       "      <td>no</td>\n",
       "      <td>Radha Bharadwaj</td>\n",
       "      <td>Madeleine Stowe</td>\n",
       "      <td>Alan Rickman</td>\n",
       "      <td>NaN</td>\n",
       "      <td>NaN</td>\n",
       "      <td>NaN</td>\n",
       "    </tr>\n",
       "    <tr>\n",
       "      <th>245</th>\n",
       "      <td>246</td>\n",
       "      <td>The Squeeze</td>\n",
       "      <td>Feature Film</td>\n",
       "      <td>Action &amp; Adventure</td>\n",
       "      <td>101.0</td>\n",
       "      <td>PG-13</td>\n",
       "      <td>HBO Video</td>\n",
       "      <td>1987</td>\n",
       "      <td>7</td>\n",
       "      <td>10</td>\n",
       "      <td>...</td>\n",
       "      <td>no</td>\n",
       "      <td>no</td>\n",
       "      <td>no</td>\n",
       "      <td>no</td>\n",
       "      <td>Roger Young</td>\n",
       "      <td>Michael Keaton</td>\n",
       "      <td>Rae Dawn Chong</td>\n",
       "      <td>Meat Loaf</td>\n",
       "      <td>John Davidson</td>\n",
       "      <td>Ric Abernathy</td>\n",
       "    </tr>\n",
       "    <tr>\n",
       "      <th>285</th>\n",
       "      <td>286</td>\n",
       "      <td>The Man Who Sued God</td>\n",
       "      <td>Feature Film</td>\n",
       "      <td>Drama</td>\n",
       "      <td>97.0</td>\n",
       "      <td>R</td>\n",
       "      <td>NaN</td>\n",
       "      <td>2001</td>\n",
       "      <td>10</td>\n",
       "      <td>25</td>\n",
       "      <td>...</td>\n",
       "      <td>no</td>\n",
       "      <td>no</td>\n",
       "      <td>no</td>\n",
       "      <td>no</td>\n",
       "      <td>Mark Joffe</td>\n",
       "      <td>Billy Connolly</td>\n",
       "      <td>Judy Davis</td>\n",
       "      <td>Colin Friels</td>\n",
       "      <td>Bille Brown</td>\n",
       "      <td>Wendy Hughes</td>\n",
       "    </tr>\n",
       "    <tr>\n",
       "      <th>311</th>\n",
       "      <td>312</td>\n",
       "      <td>The End of America</td>\n",
       "      <td>Documentary</td>\n",
       "      <td>Documentary</td>\n",
       "      <td>NaN</td>\n",
       "      <td>Unrated</td>\n",
       "      <td>Indipix</td>\n",
       "      <td>2008</td>\n",
       "      <td>10</td>\n",
       "      <td>1</td>\n",
       "      <td>...</td>\n",
       "      <td>no</td>\n",
       "      <td>no</td>\n",
       "      <td>no</td>\n",
       "      <td>no</td>\n",
       "      <td>Anne Sundberg</td>\n",
       "      <td>Naomi Wolf</td>\n",
       "      <td>NaN</td>\n",
       "      <td>NaN</td>\n",
       "      <td>NaN</td>\n",
       "      <td>NaN</td>\n",
       "    </tr>\n",
       "    <tr>\n",
       "      <th>321</th>\n",
       "      <td>322</td>\n",
       "      <td>Electric Dreams</td>\n",
       "      <td>Feature Film</td>\n",
       "      <td>Drama</td>\n",
       "      <td>95.0</td>\n",
       "      <td>PG</td>\n",
       "      <td>MGM</td>\n",
       "      <td>1984</td>\n",
       "      <td>7</td>\n",
       "      <td>20</td>\n",
       "      <td>...</td>\n",
       "      <td>no</td>\n",
       "      <td>no</td>\n",
       "      <td>no</td>\n",
       "      <td>no</td>\n",
       "      <td>Steve Barron</td>\n",
       "      <td>Lenny Von Dohlen</td>\n",
       "      <td>Virginia Madsen</td>\n",
       "      <td>Maxwell Caulfield</td>\n",
       "      <td>Bud Cort</td>\n",
       "      <td>Don Fellows</td>\n",
       "    </tr>\n",
       "    <tr>\n",
       "      <th>349</th>\n",
       "      <td>350</td>\n",
       "      <td>Teen Wolf Too</td>\n",
       "      <td>Feature Film</td>\n",
       "      <td>Science Fiction &amp; Fantasy</td>\n",
       "      <td>95.0</td>\n",
       "      <td>PG</td>\n",
       "      <td>Paramount Home Video</td>\n",
       "      <td>1987</td>\n",
       "      <td>11</td>\n",
       "      <td>20</td>\n",
       "      <td>...</td>\n",
       "      <td>no</td>\n",
       "      <td>no</td>\n",
       "      <td>no</td>\n",
       "      <td>no</td>\n",
       "      <td>Christopher Leitch</td>\n",
       "      <td>Jason Bateman</td>\n",
       "      <td>Kim Darby</td>\n",
       "      <td>John Astin</td>\n",
       "      <td>Estee Chandler</td>\n",
       "      <td>Paul Sand</td>\n",
       "    </tr>\n",
       "    <tr>\n",
       "      <th>357</th>\n",
       "      <td>358</td>\n",
       "      <td>Jonestown: The Life and Death of Peoples Temple</td>\n",
       "      <td>Documentary</td>\n",
       "      <td>Documentary</td>\n",
       "      <td>86.0</td>\n",
       "      <td>Unrated</td>\n",
       "      <td>7th art</td>\n",
       "      <td>2006</td>\n",
       "      <td>10</td>\n",
       "      <td>20</td>\n",
       "      <td>...</td>\n",
       "      <td>no</td>\n",
       "      <td>no</td>\n",
       "      <td>no</td>\n",
       "      <td>no</td>\n",
       "      <td>Stanley Nelson</td>\n",
       "      <td>NaN</td>\n",
       "      <td>NaN</td>\n",
       "      <td>NaN</td>\n",
       "      <td>NaN</td>\n",
       "      <td>NaN</td>\n",
       "    </tr>\n",
       "    <tr>\n",
       "      <th>370</th>\n",
       "      <td>371</td>\n",
       "      <td>The Last Lions</td>\n",
       "      <td>Documentary</td>\n",
       "      <td>Documentary</td>\n",
       "      <td>88.0</td>\n",
       "      <td>PG</td>\n",
       "      <td>National Geographic Entertainment</td>\n",
       "      <td>2011</td>\n",
       "      <td>2</td>\n",
       "      <td>18</td>\n",
       "      <td>...</td>\n",
       "      <td>yes</td>\n",
       "      <td>no</td>\n",
       "      <td>no</td>\n",
       "      <td>no</td>\n",
       "      <td>Dereck Joubert</td>\n",
       "      <td>Jeremy Irons</td>\n",
       "      <td>NaN</td>\n",
       "      <td>NaN</td>\n",
       "      <td>NaN</td>\n",
       "      <td>NaN</td>\n",
       "    </tr>\n",
       "    <tr>\n",
       "      <th>372</th>\n",
       "      <td>373</td>\n",
       "      <td>Inserts</td>\n",
       "      <td>Feature Film</td>\n",
       "      <td>Drama</td>\n",
       "      <td>117.0</td>\n",
       "      <td>NC-17</td>\n",
       "      <td>NaN</td>\n",
       "      <td>1975</td>\n",
       "      <td>1</td>\n",
       "      <td>1</td>\n",
       "      <td>...</td>\n",
       "      <td>yes</td>\n",
       "      <td>no</td>\n",
       "      <td>no</td>\n",
       "      <td>no</td>\n",
       "      <td>John Byrum</td>\n",
       "      <td>Richard Dreyfuss</td>\n",
       "      <td>Jessica Harper</td>\n",
       "      <td>Stephen Davies</td>\n",
       "      <td>Veronica Cartwright</td>\n",
       "      <td>Bob Hoskins</td>\n",
       "    </tr>\n",
       "    <tr>\n",
       "      <th>404</th>\n",
       "      <td>405</td>\n",
       "      <td>The Last Remake of Beau Geste</td>\n",
       "      <td>Feature Film</td>\n",
       "      <td>Action &amp; Adventure</td>\n",
       "      <td>85.0</td>\n",
       "      <td>PG</td>\n",
       "      <td>MCA Universal Home Video</td>\n",
       "      <td>1977</td>\n",
       "      <td>7</td>\n",
       "      <td>15</td>\n",
       "      <td>...</td>\n",
       "      <td>no</td>\n",
       "      <td>no</td>\n",
       "      <td>no</td>\n",
       "      <td>no</td>\n",
       "      <td>Marty Feldman</td>\n",
       "      <td>Marty Feldman</td>\n",
       "      <td>Ann-Margret</td>\n",
       "      <td>Michael York</td>\n",
       "      <td>Peter Ustinov</td>\n",
       "      <td>James Earl Jones</td>\n",
       "    </tr>\n",
       "    <tr>\n",
       "      <th>416</th>\n",
       "      <td>417</td>\n",
       "      <td>Let It Be</td>\n",
       "      <td>Documentary</td>\n",
       "      <td>Documentary</td>\n",
       "      <td>81.0</td>\n",
       "      <td>G</td>\n",
       "      <td>United Artists</td>\n",
       "      <td>1970</td>\n",
       "      <td>5</td>\n",
       "      <td>20</td>\n",
       "      <td>...</td>\n",
       "      <td>no</td>\n",
       "      <td>no</td>\n",
       "      <td>no</td>\n",
       "      <td>no</td>\n",
       "      <td>Michael Lindsay-Hogg</td>\n",
       "      <td>Beatles The</td>\n",
       "      <td>Paul McCartney</td>\n",
       "      <td>Ringo Starr</td>\n",
       "      <td>George Harrison</td>\n",
       "      <td>John Lennon</td>\n",
       "    </tr>\n",
       "    <tr>\n",
       "      <th>418</th>\n",
       "      <td>419</td>\n",
       "      <td>The Disappearance of Alice Creed</td>\n",
       "      <td>Feature Film</td>\n",
       "      <td>Mystery &amp; Suspense</td>\n",
       "      <td>96.0</td>\n",
       "      <td>R</td>\n",
       "      <td>Anchor Bay Entertainment</td>\n",
       "      <td>2010</td>\n",
       "      <td>8</td>\n",
       "      <td>6</td>\n",
       "      <td>...</td>\n",
       "      <td>no</td>\n",
       "      <td>no</td>\n",
       "      <td>no</td>\n",
       "      <td>no</td>\n",
       "      <td>J Blakeson</td>\n",
       "      <td>Gemma Arterton</td>\n",
       "      <td>Martin Compston</td>\n",
       "      <td>Eddie Marsan</td>\n",
       "      <td>NaN</td>\n",
       "      <td>NaN</td>\n",
       "    </tr>\n",
       "    <tr>\n",
       "      <th>424</th>\n",
       "      <td>425</td>\n",
       "      <td>The Ninth Gate</td>\n",
       "      <td>Feature Film</td>\n",
       "      <td>Mystery &amp; Suspense</td>\n",
       "      <td>133.0</td>\n",
       "      <td>R</td>\n",
       "      <td>Artisan Entertainment</td>\n",
       "      <td>1999</td>\n",
       "      <td>12</td>\n",
       "      <td>24</td>\n",
       "      <td>...</td>\n",
       "      <td>no</td>\n",
       "      <td>no</td>\n",
       "      <td>no</td>\n",
       "      <td>no</td>\n",
       "      <td>NaN</td>\n",
       "      <td>Johnny Depp</td>\n",
       "      <td>Frank Langella</td>\n",
       "      <td>Lena Olin</td>\n",
       "      <td>Emmanuelle Seigner</td>\n",
       "      <td>Barbara Jefford</td>\n",
       "    </tr>\n",
       "    <tr>\n",
       "      <th>465</th>\n",
       "      <td>466</td>\n",
       "      <td>My Dinner with Andre</td>\n",
       "      <td>Feature Film</td>\n",
       "      <td>Drama</td>\n",
       "      <td>110.0</td>\n",
       "      <td>PG</td>\n",
       "      <td>New Yorker Films</td>\n",
       "      <td>1981</td>\n",
       "      <td>10</td>\n",
       "      <td>11</td>\n",
       "      <td>...</td>\n",
       "      <td>no</td>\n",
       "      <td>no</td>\n",
       "      <td>no</td>\n",
       "      <td>no</td>\n",
       "      <td>Louis Malle</td>\n",
       "      <td>Jean Lenauer</td>\n",
       "      <td>Roy Butler</td>\n",
       "      <td>Andre Gregory</td>\n",
       "      <td>Wallace Shawn</td>\n",
       "      <td>NaN</td>\n",
       "    </tr>\n",
       "    <tr>\n",
       "      <th>493</th>\n",
       "      <td>494</td>\n",
       "      <td>Death Line (Raw Meat)</td>\n",
       "      <td>Feature Film</td>\n",
       "      <td>Horror</td>\n",
       "      <td>87.0</td>\n",
       "      <td>R</td>\n",
       "      <td>NaN</td>\n",
       "      <td>1972</td>\n",
       "      <td>1</td>\n",
       "      <td>1</td>\n",
       "      <td>...</td>\n",
       "      <td>no</td>\n",
       "      <td>no</td>\n",
       "      <td>no</td>\n",
       "      <td>no</td>\n",
       "      <td>Gary Sherman</td>\n",
       "      <td>Hugh Armstrong</td>\n",
       "      <td>James Cossins</td>\n",
       "      <td>Sharon Gurney</td>\n",
       "      <td>David Ladd</td>\n",
       "      <td>Christopher Lee</td>\n",
       "    </tr>\n",
       "    <tr>\n",
       "      <th>509</th>\n",
       "      <td>510</td>\n",
       "      <td>Saint of 9/11</td>\n",
       "      <td>Documentary</td>\n",
       "      <td>Documentary</td>\n",
       "      <td>90.0</td>\n",
       "      <td>Unrated</td>\n",
       "      <td>IFC</td>\n",
       "      <td>2006</td>\n",
       "      <td>9</td>\n",
       "      <td>6</td>\n",
       "      <td>...</td>\n",
       "      <td>no</td>\n",
       "      <td>no</td>\n",
       "      <td>no</td>\n",
       "      <td>no</td>\n",
       "      <td>Glenn Holsten</td>\n",
       "      <td>Ian McKellen</td>\n",
       "      <td>NaN</td>\n",
       "      <td>NaN</td>\n",
       "      <td>NaN</td>\n",
       "      <td>NaN</td>\n",
       "    </tr>\n",
       "    <tr>\n",
       "      <th>530</th>\n",
       "      <td>531</td>\n",
       "      <td>Sea Monsters: A Prehistoric Adventure</td>\n",
       "      <td>Documentary</td>\n",
       "      <td>Documentary</td>\n",
       "      <td>40.0</td>\n",
       "      <td>G</td>\n",
       "      <td>National Geographic</td>\n",
       "      <td>2007</td>\n",
       "      <td>10</td>\n",
       "      <td>5</td>\n",
       "      <td>...</td>\n",
       "      <td>no</td>\n",
       "      <td>no</td>\n",
       "      <td>no</td>\n",
       "      <td>no</td>\n",
       "      <td>Sean MacLeod Phillips</td>\n",
       "      <td>Liev Schreiber</td>\n",
       "      <td>NaN</td>\n",
       "      <td>NaN</td>\n",
       "      <td>NaN</td>\n",
       "      <td>NaN</td>\n",
       "    </tr>\n",
       "    <tr>\n",
       "      <th>560</th>\n",
       "      <td>561</td>\n",
       "      <td>The Illusionist (L'illusionniste)</td>\n",
       "      <td>Feature Film</td>\n",
       "      <td>Drama</td>\n",
       "      <td>80.0</td>\n",
       "      <td>PG</td>\n",
       "      <td>Sony Pictures Classics</td>\n",
       "      <td>2010</td>\n",
       "      <td>12</td>\n",
       "      <td>25</td>\n",
       "      <td>...</td>\n",
       "      <td>no</td>\n",
       "      <td>no</td>\n",
       "      <td>no</td>\n",
       "      <td>no</td>\n",
       "      <td>Sylvain Chomet</td>\n",
       "      <td>Jean-Claude Donda</td>\n",
       "      <td>Eilidh Rankin</td>\n",
       "      <td>Duncan MacNeil</td>\n",
       "      <td>Raymond Mearns</td>\n",
       "      <td>NaN</td>\n",
       "    </tr>\n",
       "  </tbody>\n",
       "</table>\n",
       "<p>28 rows × 31 columns</p>\n",
       "</div>"
      ],
      "text/plain": [
       "     Unnamed: 0                                            title  \\\n",
       "5             6                                      Old Partner   \n",
       "24           25                        The Yes Men Fix the World   \n",
       "87           88                         Dirty Sanchez: The Movie   \n",
       "93           94     Charlie: The Life and Art of Charles Chaplin   \n",
       "122         123                            Africa: The Serengeti   \n",
       "161         162                                    Lorenzo's Oil   \n",
       "163         164                                       Kicking It   \n",
       "172         173                                  Streets of Gold   \n",
       "186         187                                       Gaza Strip   \n",
       "195         196                                          Caveman   \n",
       "220         221                                      Closet Land   \n",
       "245         246                                      The Squeeze   \n",
       "285         286                             The Man Who Sued God   \n",
       "311         312                               The End of America   \n",
       "321         322                                  Electric Dreams   \n",
       "349         350                                    Teen Wolf Too   \n",
       "357         358  Jonestown: The Life and Death of Peoples Temple   \n",
       "370         371                                   The Last Lions   \n",
       "372         373                                          Inserts   \n",
       "404         405                    The Last Remake of Beau Geste   \n",
       "416         417                                        Let It Be   \n",
       "418         419                 The Disappearance of Alice Creed   \n",
       "424         425                                   The Ninth Gate   \n",
       "465         466                             My Dinner with Andre   \n",
       "493         494                            Death Line (Raw Meat)   \n",
       "509         510                                    Saint of 9/11   \n",
       "530         531            Sea Monsters: A Prehistoric Adventure   \n",
       "560         561                The Illusionist (L'illusionniste)   \n",
       "\n",
       "       title_type                      genre  runtime mpaa_rating  \\\n",
       "5     Documentary                Documentary     78.0     Unrated   \n",
       "24    Documentary                Documentary     87.0     Unrated   \n",
       "87    Documentary                     Comedy     94.0           R   \n",
       "93    Documentary                Documentary    132.0     Unrated   \n",
       "122   Documentary                Documentary     39.0     Unrated   \n",
       "161  Feature Film                      Drama    129.0       PG-13   \n",
       "163   Documentary                Documentary     98.0     Unrated   \n",
       "172  Feature Film                      Drama     95.0           R   \n",
       "186   Documentary                Documentary     74.0     Unrated   \n",
       "195  Feature Film         Action & Adventure     91.0          PG   \n",
       "220  Feature Film         Mystery & Suspense     89.0           R   \n",
       "245  Feature Film         Action & Adventure    101.0       PG-13   \n",
       "285  Feature Film                      Drama     97.0           R   \n",
       "311   Documentary                Documentary      NaN     Unrated   \n",
       "321  Feature Film                      Drama     95.0          PG   \n",
       "349  Feature Film  Science Fiction & Fantasy     95.0          PG   \n",
       "357   Documentary                Documentary     86.0     Unrated   \n",
       "370   Documentary                Documentary     88.0          PG   \n",
       "372  Feature Film                      Drama    117.0       NC-17   \n",
       "404  Feature Film         Action & Adventure     85.0          PG   \n",
       "416   Documentary                Documentary     81.0           G   \n",
       "418  Feature Film         Mystery & Suspense     96.0           R   \n",
       "424  Feature Film         Mystery & Suspense    133.0           R   \n",
       "465  Feature Film                      Drama    110.0          PG   \n",
       "493  Feature Film                     Horror     87.0           R   \n",
       "509   Documentary                Documentary     90.0     Unrated   \n",
       "530   Documentary                Documentary     40.0           G   \n",
       "560  Feature Film                      Drama     80.0          PG   \n",
       "\n",
       "                                studio  thtr_rel_year  thtr_rel_month  \\\n",
       "5                   Shcalo Media Group           2009               1   \n",
       "24                       Cinetic Media           2009               1   \n",
       "87                                 NaN           2007               9   \n",
       "93                        Warner Bros.           2004               2   \n",
       "122     Houston Museum of Natural Scie           1994               4   \n",
       "161           MCA Universal Home Video           1992              12   \n",
       "163           Liberation Entertainment           2008               6   \n",
       "172                    Live Home Video           1986              11   \n",
       "186             Arab Film Distribution           2002               1   \n",
       "195                                NaN           1981               4   \n",
       "220           Media Home Entertainment           1991               3   \n",
       "245                          HBO Video           1987               7   \n",
       "285                                NaN           2001              10   \n",
       "311                            Indipix           2008              10   \n",
       "321                                MGM           1984               7   \n",
       "349               Paramount Home Video           1987              11   \n",
       "357                            7th art           2006              10   \n",
       "370  National Geographic Entertainment           2011               2   \n",
       "372                                NaN           1975               1   \n",
       "404           MCA Universal Home Video           1977               7   \n",
       "416                     United Artists           1970               5   \n",
       "418           Anchor Bay Entertainment           2010               8   \n",
       "424              Artisan Entertainment           1999              12   \n",
       "465                   New Yorker Films           1981              10   \n",
       "493                                NaN           1972               1   \n",
       "509                                IFC           2006               9   \n",
       "530                National Geographic           2007              10   \n",
       "560             Sony Pictures Classics           2010              12   \n",
       "\n",
       "     thtr_rel_day  ...  best_actor_win  best_actress_win  best_dir_win  \\\n",
       "5              15  ...              no                no            no   \n",
       "24             18  ...              no                no            no   \n",
       "87             11  ...              no                no            no   \n",
       "93             13  ...              no                no            no   \n",
       "122             8  ...              no                no            no   \n",
       "161            30  ...              no               yes            no   \n",
       "163            13  ...              no                no            no   \n",
       "172            14  ...              no                no            no   \n",
       "186             1  ...              no                no            no   \n",
       "195            17  ...              no                no            no   \n",
       "220             6  ...              no                no            no   \n",
       "245            10  ...              no                no            no   \n",
       "285            25  ...              no                no            no   \n",
       "311             1  ...              no                no            no   \n",
       "321            20  ...              no                no            no   \n",
       "349            20  ...              no                no            no   \n",
       "357            20  ...              no                no            no   \n",
       "370            18  ...             yes                no            no   \n",
       "372             1  ...             yes                no            no   \n",
       "404            15  ...              no                no            no   \n",
       "416            20  ...              no                no            no   \n",
       "418             6  ...              no                no            no   \n",
       "424            24  ...              no                no            no   \n",
       "465            11  ...              no                no            no   \n",
       "493             1  ...              no                no            no   \n",
       "509             6  ...              no                no            no   \n",
       "530             5  ...              no                no            no   \n",
       "560            25  ...              no                no            no   \n",
       "\n",
       "     top200_box               director                 actor1  \\\n",
       "5            no        Chung-ryoul Lee          Choi Won-kyun   \n",
       "24           no         Andy Bichlbaum         Andy Bichlbaum   \n",
       "87           no             Jim Hickey            Lee Dainton   \n",
       "93           no       Richard Schickel            Woody Allen   \n",
       "122          no           George Casey       James Earl Jones   \n",
       "161          no                    NaN             Nick Nolte   \n",
       "163          no            Jeff Werner          Colin Farrell   \n",
       "172          no               Joe Roth  Klaus Maria Brandauer   \n",
       "186          no          James Longley                    NaN   \n",
       "195          no          Carl Gottlieb            Ringo Starr   \n",
       "220          no        Radha Bharadwaj        Madeleine Stowe   \n",
       "245          no            Roger Young         Michael Keaton   \n",
       "285          no             Mark Joffe         Billy Connolly   \n",
       "311          no          Anne Sundberg             Naomi Wolf   \n",
       "321          no           Steve Barron       Lenny Von Dohlen   \n",
       "349          no     Christopher Leitch          Jason Bateman   \n",
       "357          no         Stanley Nelson                    NaN   \n",
       "370          no         Dereck Joubert           Jeremy Irons   \n",
       "372          no             John Byrum       Richard Dreyfuss   \n",
       "404          no          Marty Feldman          Marty Feldman   \n",
       "416          no   Michael Lindsay-Hogg            Beatles The   \n",
       "418          no             J Blakeson         Gemma Arterton   \n",
       "424          no                    NaN            Johnny Depp   \n",
       "465          no            Louis Malle           Jean Lenauer   \n",
       "493          no           Gary Sherman         Hugh Armstrong   \n",
       "509          no          Glenn Holsten           Ian McKellen   \n",
       "530          no  Sean MacLeod Phillips         Liev Schreiber   \n",
       "560          no         Sylvain Chomet      Jean-Claude Donda   \n",
       "\n",
       "              actor2                actor3               actor4  \\\n",
       "5       Lee Sam-soon                   Moo                  NaN   \n",
       "24      Reggie Waits          Mike Bonanno                  NaN   \n",
       "87         Dan Joyce  Michael Pancho Locke       Matt Pritchard   \n",
       "93       Johnny Depp        Sydney Pollack         Milos Forman   \n",
       "122              NaN                   NaN                  NaN   \n",
       "161   Susan Sarandon         Peter Ustinov    Kathleen Wilhoite   \n",
       "163  Brandon Francis                   NaN                  NaN   \n",
       "172    Adrian Pasdar        Richard Pasdar        Wesley Snipes   \n",
       "186              NaN                   NaN                  NaN   \n",
       "195     Dennis Quaid          Shelley Long         Jack Gilford   \n",
       "220     Alan Rickman                   NaN                  NaN   \n",
       "245   Rae Dawn Chong             Meat Loaf        John Davidson   \n",
       "285       Judy Davis          Colin Friels          Bille Brown   \n",
       "311              NaN                   NaN                  NaN   \n",
       "321  Virginia Madsen     Maxwell Caulfield             Bud Cort   \n",
       "349        Kim Darby            John Astin       Estee Chandler   \n",
       "357              NaN                   NaN                  NaN   \n",
       "370              NaN                   NaN                  NaN   \n",
       "372   Jessica Harper        Stephen Davies  Veronica Cartwright   \n",
       "404      Ann-Margret          Michael York        Peter Ustinov   \n",
       "416   Paul McCartney           Ringo Starr      George Harrison   \n",
       "418  Martin Compston          Eddie Marsan                  NaN   \n",
       "424   Frank Langella             Lena Olin   Emmanuelle Seigner   \n",
       "465       Roy Butler         Andre Gregory        Wallace Shawn   \n",
       "493    James Cossins         Sharon Gurney           David Ladd   \n",
       "509              NaN                   NaN                  NaN   \n",
       "530              NaN                   NaN                  NaN   \n",
       "560    Eilidh Rankin        Duncan MacNeil       Raymond Mearns   \n",
       "\n",
       "               actor5  \n",
       "5                 NaN  \n",
       "24                NaN  \n",
       "87       Howard Marks  \n",
       "93     Marcel Marceau  \n",
       "122               NaN  \n",
       "161      Gerry Bamman  \n",
       "163               NaN  \n",
       "172     Angela Molina  \n",
       "186               NaN  \n",
       "195     John Matuszak  \n",
       "220               NaN  \n",
       "245     Ric Abernathy  \n",
       "285      Wendy Hughes  \n",
       "311               NaN  \n",
       "321       Don Fellows  \n",
       "349         Paul Sand  \n",
       "357               NaN  \n",
       "370               NaN  \n",
       "372       Bob Hoskins  \n",
       "404  James Earl Jones  \n",
       "416       John Lennon  \n",
       "418               NaN  \n",
       "424   Barbara Jefford  \n",
       "465               NaN  \n",
       "493   Christopher Lee  \n",
       "509               NaN  \n",
       "530               NaN  \n",
       "560               NaN  \n",
       "\n",
       "[28 rows x 31 columns]"
      ]
     },
     "execution_count": 69,
     "metadata": {},
     "output_type": "execute_result"
    }
   ],
   "source": [
    "#this shows rows which have 1 or more than 1 null values\n",
    "movies[movies.isnull().any(axis=1)]"
   ]
  },
  {
   "cell_type": "code",
   "execution_count": 70,
   "metadata": {},
   "outputs": [],
   "source": [
    "movies_after_dropping_rows=movies.dropna()"
   ]
  },
  {
   "cell_type": "code",
   "execution_count": 71,
   "metadata": {},
   "outputs": [
    {
     "data": {
      "text/plain": [
       "(572, 31)"
      ]
     },
     "execution_count": 71,
     "metadata": {},
     "output_type": "execute_result"
    }
   ],
   "source": [
    "movies_after_dropping_rows.shape"
   ]
  },
  {
   "cell_type": "markdown",
   "metadata": {},
   "source": [
    "# Part 3 - Visualizing data"
   ]
  },
  {
   "cell_type": "markdown",
   "metadata": {},
   "source": [
    "# Visualize the df by drawing the following plots:¶\n",
    "\n"
   ]
  },
  {
   "cell_type": "markdown",
   "metadata": {},
   "source": [
    "- Visualize the df by drawing the following plots:\n",
    "- Modify the histogram of Age by adding 30 bins.\n",
    "- Draw a scatter plot between Age and Attrition and suitable labels to the axes. Find out whether people more than 50 years are more likely to leave the company. (Attrition = 1 means people have left the company).\n"
   ]
  },
  {
   "cell_type": "code",
   "execution_count": 72,
   "metadata": {},
   "outputs": [
    {
     "data": {
      "image/png": "[encoded data removed]",
      "text/plain": [
       "<Figure size 1008x720 with 1 Axes>"
      ]
     },
     "metadata": {
      "needs_background": "light"
     },
     "output_type": "display_data"
    }
   ],
   "source": [
    "hist = df.hist(column='Age',figsize=(14,10))"
   ]
  },
  {
   "cell_type": "code",
   "execution_count": 73,
   "metadata": {},
   "outputs": [
    {
     "data": {
      "image/png": "[encoded data removed]",
      "text/plain": [
       "<Figure size 1008x720 with 1 Axes>"
      ]
     },
     "metadata": {
      "needs_background": "light"
     },
     "output_type": "display_data"
    }
   ],
   "source": [
    "hist = df.hist(column='Age',bins=30,figsize=(14,10))"
   ]
  },
  {
   "cell_type": "code",
   "execution_count": 74,
   "metadata": {},
   "outputs": [
    {
     "data": {
      "text/plain": [
       "<matplotlib.axes._subplots.AxesSubplot at 0x1e7448c77c8>"
      ]
     },
     "execution_count": 74,
     "metadata": {},
     "output_type": "execute_result"
    },
    {
     "data": {
      "image/png": "[encoded data removed]",
      "text/plain": [
       "<Figure size 864x576 with 1 Axes>"
      ]
     },
     "metadata": {
      "needs_background": "light"
     },
     "output_type": "display_data"
    }
   ],
   "source": [
    "df.plot.scatter( x='Age', y='Attrition',title=\"Scatter plot between two variables attrition and age\",figsize=(12,8))"
   ]
  },
  {
   "cell_type": "markdown",
   "metadata": {},
   "source": [
    "we can see that people with age more than 50 are less likely to leave the job.\n"
   ]
  },
  {
   "cell_type": "markdown",
   "metadata": {},
   "source": [
    "# Visualize the df by following the steps given below:¶\n"
   ]
  },
  {
   "cell_type": "markdown",
   "metadata": {},
   "source": [
    "- Get a series containing counts of unique values of Attrition.\n",
    "- Draw a countplot for Attrition using sns.countplot().\n"
   ]
  },
  {
   "cell_type": "code",
   "execution_count": 75,
   "metadata": {},
   "outputs": [
    {
     "data": {
      "text/plain": [
       "0    856\n",
       "1    172\n",
       "Name: Attrition, dtype: int64"
      ]
     },
     "execution_count": 75,
     "metadata": {},
     "output_type": "execute_result"
    }
   ],
   "source": [
    "# Get a series of counts of values of Attrition\n",
    "df['Attrition'].value_counts()\n"
   ]
  },
  {
   "cell_type": "code",
   "execution_count": 76,
   "metadata": {},
   "outputs": [
    {
     "data": {
      "text/plain": [
       "<matplotlib.axes._subplots.AxesSubplot at 0x1e744a70e48>"
      ]
     },
     "execution_count": 76,
     "metadata": {},
     "output_type": "execute_result"
    },
    {
     "data": {
      "image/png": "[encoded data removed]",
      "text/plain": [
       "<Figure size 432x288 with 1 Axes>"
      ]
     },
     "metadata": {
      "needs_background": "light"
     },
     "output_type": "display_data"
    }
   ],
   "source": [
    "\n",
    "sns.countplot(df.Attrition)"
   ]
  },
  {
   "cell_type": "markdown",
   "metadata": {},
   "source": [
    "# Visualize the df by following the steps given below:\n"
   ]
  },
  {
   "cell_type": "markdown",
   "metadata": {},
   "source": [
    "- Draw a cross tabulation of Attrition and BusinessTravel as bar charts. Find which value of BusinessTravel has highest number of people.\n"
   ]
  },
  {
   "cell_type": "code",
   "execution_count": 77,
   "metadata": {},
   "outputs": [
    {
     "data": {
      "text/plain": [
       "<matplotlib.axes._subplots.AxesSubplot at 0x1e7430d68c8>"
      ]
     },
     "execution_count": 77,
     "metadata": {},
     "output_type": "execute_result"
    },
    {
     "data": {
      "image/png": "[encoded data removed]",
      "text/plain": [
       "<Figure size 432x288 with 1 Axes>"
      ]
     },
     "metadata": {
      "needs_background": "light"
     },
     "output_type": "display_data"
    }
   ],
   "source": [
    "pd.crosstab(df['BusinessTravel'],df['Attrition']).plot(kind='bar')"
   ]
  },
  {
   "cell_type": "markdown",
   "metadata": {},
   "source": [
    "travel rarely has highest number of people"
   ]
  },
  {
   "cell_type": "markdown",
   "metadata": {},
   "source": [
    "# Visualize the df by drawing the following plot:\n"
   ]
  },
  {
   "cell_type": "markdown",
   "metadata": {},
   "source": [
    "- Draw a stacked bar chart between Attrition and Gender columns.\n"
   ]
  },
  {
   "cell_type": "code",
   "execution_count": 78,
   "metadata": {},
   "outputs": [
    {
     "data": {
      "text/plain": [
       "<matplotlib.axes._subplots.AxesSubplot at 0x1e743770208>"
      ]
     },
     "execution_count": 78,
     "metadata": {},
     "output_type": "execute_result"
    },
    {
     "data": {
      "image/png": "[encoded data removed]",
      "text/plain": [
       "<Figure size 432x288 with 1 Axes>"
      ]
     },
     "metadata": {
      "needs_background": "light"
     },
     "output_type": "display_data"
    }
   ],
   "source": [
    "pd.crosstab(df['Gender'],df['Attrition']).plot.bar(stacked=True)"
   ]
  },
  {
   "cell_type": "markdown",
   "metadata": {},
   "source": [
    "# Visualize the df by drawing the following histogram:¶\n"
   ]
  },
  {
   "cell_type": "markdown",
   "metadata": {},
   "source": [
    "- Draw a histogram of TotalWorkingYears with 30 bins.\n",
    "- Draw a histogram of YearsAtCompany with 30 bins and find whether the values in YearsAtCompany are skewed.\n",
    "\n"
   ]
  },
  {
   "cell_type": "code",
   "execution_count": 79,
   "metadata": {},
   "outputs": [
    {
     "data": {
      "image/png": "[encoded data removed]",
      "text/plain": [
       "<Figure size 1008x720 with 1 Axes>"
      ]
     },
     "metadata": {
      "needs_background": "light"
     },
     "output_type": "display_data"
    }
   ],
   "source": [
    "hist = df.hist(column='TotalWorkingYears',bins=30,figsize=(14,10))"
   ]
  },
  {
   "cell_type": "code",
   "execution_count": 80,
   "metadata": {},
   "outputs": [
    {
     "data": {
      "image/png": "[encoded data removed]",
      "text/plain": [
       "<Figure size 1008x720 with 1 Axes>"
      ]
     },
     "metadata": {
      "needs_background": "light"
     },
     "output_type": "display_data"
    }
   ],
   "source": [
    "hist = df.hist(column='YearsAtCompany',bins=30,figsize=(14,10))"
   ]
  },
  {
   "cell_type": "markdown",
   "metadata": {},
   "source": [
    "# Visualize the df by drawing the following boxplot:¶\n"
   ]
  },
  {
   "cell_type": "markdown",
   "metadata": {},
   "source": [
    "- Draw a boxplot of MonthlyIncome for each Department and report whether there is/are outlier(s).\n"
   ]
  },
  {
   "cell_type": "code",
   "execution_count": 81,
   "metadata": {},
   "outputs": [
    {
     "data": {
      "image/png": "[encoded data removed]",
      "text/plain": [
       "<Figure size 432x288 with 1 Axes>"
      ]
     },
     "metadata": {
      "needs_background": "light"
     },
     "output_type": "display_data"
    }
   ],
   "source": [
    "ax = sns.boxplot(x=\"Department\", y=\"MonthlyIncome\", data=df)\n"
   ]
  },
  {
   "cell_type": "markdown",
   "metadata": {},
   "source": [
    "# Visualize the df by drawing the following piechart:\n"
   ]
  },
  {
   "cell_type": "markdown",
   "metadata": {},
   "source": [
    "- Create a pie chart of the values in JobRole with suitable label and report which role has highest number of persons.\n"
   ]
  },
  {
   "cell_type": "code",
   "execution_count": 82,
   "metadata": {},
   "outputs": [],
   "source": [
    "jobrole=df['JobRole'].value_counts()"
   ]
  },
  {
   "cell_type": "code",
   "execution_count": 83,
   "metadata": {},
   "outputs": [
    {
     "name": "stdout",
     "output_type": "stream",
     "text": [
      "Sales Executive              223\n",
      "Research Scientist           209\n",
      "Laboratory Technician        183\n",
      "Manufacturing Director       105\n",
      "Healthcare Representative     85\n",
      "Manager                       79\n",
      "Research Director             59\n",
      "Sales Representative          57\n",
      "Human Resources               28\n",
      "Name: JobRole, dtype: int64\n"
     ]
    }
   ],
   "source": [
    "print(jobrole)"
   ]
  },
  {
   "cell_type": "code",
   "execution_count": 84,
   "metadata": {},
   "outputs": [
    {
     "data": {
      "text/plain": [
       "<matplotlib.axes._subplots.AxesSubplot at 0x1e745a115c8>"
      ]
     },
     "execution_count": 84,
     "metadata": {},
     "output_type": "execute_result"
    },
    {
     "data": {
      "image/png": "[encoded data removed]",
      "text/plain": [
       "<Figure size 864x576 with 1 Axes>"
      ]
     },
     "metadata": {},
     "output_type": "display_data"
    }
   ],
   "source": [
    "df.JobRole.value_counts(sort=True).plot.pie( figsize=(12,8))\n"
   ]
  },
  {
   "cell_type": "code",
   "execution_count": null,
   "metadata": {},
   "outputs": [],
   "source": []
  }
 ],
 "metadata": {
  "kernelspec": {
   "display_name": "Python 3",
   "language": "python",
   "name": "python3"
  }
 },
 "nbformat": 4,
 "nbformat_minor": 4
}
